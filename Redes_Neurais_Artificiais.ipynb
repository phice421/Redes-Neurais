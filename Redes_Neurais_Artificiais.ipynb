{
  "nbformat": 4,
  "nbformat_minor": 0,
  "metadata": {
    "colab": {
      "provenance": [],
      "gpuType": "T4",
      "include_colab_link": true
    },
    "kernelspec": {
      "name": "python3",
      "display_name": "Python 3"
    },
    "language_info": {
      "name": "python"
    }
  },
  "cells": [
    {
      "cell_type": "markdown",
      "metadata": {
        "id": "view-in-github",
        "colab_type": "text"
      },
      "source": [
        "<a href=\"https://colab.research.google.com/github/phice421/Redes-Neurais/blob/main/Redes_Neurais_Artificiais.ipynb\" target=\"_parent\"><img src=\"https://colab.research.google.com/assets/colab-badge.svg\" alt=\"Open In Colab\"/></a>"
      ]
    },
    {
      "cell_type": "markdown",
      "source": [
        "**IA & Big Data**\n",
        "\n",
        "\n",
        "\n",
        "---\n",
        "**Redes Neurais**\n",
        "\n",
        "---"
      ],
      "metadata": {
        "id": "XhTnFcdyPv0_"
      }
    },
    {
      "cell_type": "code",
      "execution_count": null,
      "metadata": {
        "id": "uEvz4w8D7i9P"
      },
      "outputs": [],
      "source": [
        "# Importando as bibliotecas necessarias para o projeto\n",
        "import pandas as pd\n",
        "import keras\n",
        "import tensorflow as tf\n",
        "from keras.models import Sequential\n",
        "from keras.layers import Dense\n",
        "from keras.layers import Input\n",
        "from keras.utils import plot_model\n",
        "\n",
        "# Ajuste nos dados\n",
        "from sklearn.model_selection import train_test_split\n",
        "from sklearn.preprocessing import MinMaxScaler\n",
        "\n",
        "# Métricas de Desempenho\n",
        "from sklearn.metrics import ConfusionMatrixDisplay, confusion_matrix, classification_report\n",
        "\n",
        "# Plot dos gráficos\n",
        "import matplotlib.pyplot as plt\n",
        "import seaborn as sns\n",
        "\n",
        "# Google Drive\n",
        "from google_drive_downloader import GoogleDriveDownloader as gdd\n"
      ]
    },
    {
      "cell_type": "markdown",
      "source": [
        "## Conjunto de dados da aula"
      ],
      "metadata": {
        "id": "m-jBw5X6JKO1"
      }
    },
    {
      "cell_type": "markdown",
      "metadata": {
        "id": "QZxFAAIXJv2r"
      },
      "source": [
        "O robô **SCITOS G5** foi objeto de estudo de um modelo de um robô que segue parede de forma autonoma. Nesse estudo foram coletados dados dos 24 sensores ultrassônicos instalados ao redor do robô (ver imagem 1).\n",
        "\n",
        "\n",
        "**Referencia do dataset e do artigo dessa questão:**\n",
        "\n",
        "Ananda L. Freire, Guilherme A. Barreto, Marcus Veloso and Antonio T. Varela (2009),\n",
        "\t\"Short-Term Memory Mechanisms in Neural Network Learning of Robot Navigation\n",
        "\tTasks: A Case Study\". Proceedings of the 6th Latin American Robotics Symposium (LARS'2009),\n",
        "\tValparaíso-Chile, pages 1-6, DOI: 10.1109/LARS.2009.5418323"
      ]
    },
    {
      "cell_type": "markdown",
      "source": [
        "<img src='https://drive.google.com/uc?id=1Sd3MvhItVs-4ufbmtcMBsWkdLZJnClud' width=300>\n",
        "\n",
        "\n",
        "*Figura 1 - robô SCITOS G5*\n",
        "\n",
        "\n"
      ],
      "metadata": {
        "id": "P2u5b-E8c3yn"
      }
    },
    {
      "cell_type": "markdown",
      "source": [
        "O objetivo do robô era conseguir seguir uma parede evitando eventuais colisões. Esse robô foi testado com diversos algoritmos e os dados dos valores desses sensores, assim como o movimento que o robô deveria fazer, foram armazenados em um conjunto de dados. A imagem a seguir ilustra as rotas realizadas pelo robô."
      ],
      "metadata": {
        "id": "Xzfrp65Ok17F"
      }
    },
    {
      "cell_type": "markdown",
      "source": [
        "\n",
        "<img src=\"https://drive.google.com/uc?id=1xey3l885AKnBiB9cR_3S9SglY9oLd0Qu\" width=800>\n",
        "\n",
        "*Figura 2 - Exemplo de trajetória executada pelo robô*"
      ],
      "metadata": {
        "id": "evWyoct4rDHr"
      }
    },
    {
      "cell_type": "markdown",
      "source": [
        "A seguir temos uma descrição dos diversos sensores do robô instalados no robô\n",
        "\n",
        "  \n",
        "1. US1: Sensor ultrassônico na parte frontal do robô (ângulo de referência: 180°) - (numeric: real)\n",
        "\n",
        "2. US2: Leitura do sensor ultrassônico (ângulo de referência: -165°) - (numeric: real)\n",
        "\n",
        "3. US3: Leitura do sensor ultrassônico (ângulo de referência: -150°) - (numeric: real)\n",
        "\n",
        "4. US4: Leitura do sensor ultrassônico (ângulo de referência: -135°) - (numeric: real)\n",
        "\n",
        "5. US5: Leitura do sensor ultrassônico (ângulo de referência: -120°) - (numeric: real)\n",
        "\n",
        "6. US6: Leitura do sensor ultrassônico (ângulo de referência: -105°) - (numeric: real)\n",
        "\n",
        "7. US7: Leitura do sensor ultrassônico (ângulo de referência: -90°) - (numeric: real)\n",
        "\n",
        "8. US8: Leitura do sensor ultrassônico (ângulo de referência: -75°) - (numeric: real)\n",
        "\n",
        "9. US9: Leitura do sensor ultrassônico (ângulo de referência: -60°) - (numeric: real)\n",
        "\n",
        "10. US10: Leitura do sensor ultrassônico (ângulo de referência: -45°) - (numeric: real)\n",
        "\n",
        "11. US11: Leitura do sensor ultrassônico (ângulo de referência: -30°) - (numeric: real)\n",
        "\n",
        "12. US12: Leitura do sensor ultrassônico (ângulo de referência: -15°) - (numeric: real)\n",
        "\n",
        "13. US13: Sensor ultrassônico na parte traseira do robô  t (ângulo de referência: 0°) - (numeric: real)\n",
        "\n",
        "14. US14: Leitura do sensor ultrassônico (ângulo de referência: 15°) - (numeric: real)\n",
        "\n",
        "15. US15: Leitura do sensor ultrassônico (ângulo de referência: 30°) - (numeric: real)\n",
        "\n",
        "16. US16: Leitura do sensor ultrassônico (ângulo de referência: 45°) - (numeric: real)\n",
        "\n",
        "17. US17: Leitura do sensor ultrassônico (ângulo de referência: 60°) - (numeric: real)\n",
        "\n",
        "18. US18: Leitura do sensor ultrassônico (ângulo de referência: 75°) - (numeric: real)\n",
        "\n",
        "19. US19: Leitura do sensor ultrassônico (ângulo de referência: 90°) - (numeric: real)\n",
        "\n",
        "20. US20: Leitura do sensor ultrassônico (ângulo de referência: 105°) - (numeric: real)\n",
        "\n",
        "21. US21: Leitura do sensor ultrassônico (ângulo de referência: 120°) - (numeric: real)\n",
        "\n",
        "22. US22: Leitura do sensor ultrassônico (ângulo de referência: 135°) - (numeric: real)\n",
        "\n",
        "23. US23: Leitura do sensor ultrassônico (ângulo de referência: 150°) - (numeric: real)\n",
        "\n",
        "24. US24: Leitura do sensor ultrassônico (ângulo de referência: 165°) - (numeric: real)\n",
        "\n",
        "25. Classes (target):\n",
        "\n",
        "    -- Move-Forward - Mover para frente\n",
        "\n",
        "    -- Slight-Right-Turn - Curva leve à direita\n",
        "\n",
        "    -- Sharp-Right-Turn - Curva acentuada à direita\n",
        "\n",
        "    -- Slight-Left-Turn - Curva leve à direita\n"
      ],
      "metadata": {
        "id": "GeFvHnElc31O"
      }
    },
    {
      "cell_type": "markdown",
      "metadata": {
        "id": "UvRsbIE1cB5u"
      },
      "source": [
        "## Tarefa #1: Recebendo os dados"
      ]
    },
    {
      "cell_type": "code",
      "metadata": {
        "id": "skmGW8IAGeWk"
      },
      "source": [
        "data_google_id = '18jiZdkIufjJIbeWxk3URWrIQHO0IPWxZ'\n",
        "gdd.download_file_from_google_drive(file_id=data_google_id,\n",
        "                                    dest_path = './dados.csv',\n",
        "                                    showsize = True,\n",
        "                                    overwrite=True)\n",
        "dados = pd.read_csv(\"dados.csv\", sep=',')"
      ],
      "execution_count": null,
      "outputs": []
    },
    {
      "cell_type": "markdown",
      "source": [
        "## Tarefa #2: Analise Exploratória dos Dados"
      ],
      "metadata": {
        "id": "kB-hB7D5noux"
      }
    },
    {
      "cell_type": "code",
      "metadata": {
        "id": "Fr0fir41gcS3"
      },
      "source": [
        "dados.head()"
      ],
      "execution_count": null,
      "outputs": []
    },
    {
      "cell_type": "code",
      "metadata": {
        "id": "_p7GgbgWeCTe"
      },
      "source": [
        "dados.info()"
      ],
      "execution_count": null,
      "outputs": []
    },
    {
      "cell_type": "markdown",
      "metadata": {
        "id": "-kKOi2HKezEe"
      },
      "source": [
        "Desse conjunto de dados podemos ver que o mesmo possui váriaveis do float. A única coluna do tipo object é a coluna com a ação que o robô deve executar. Logo não há a necessidade do uso de *One Hot Encoding* ou *Label Encoding*\n"
      ]
    },
    {
      "cell_type": "code",
      "metadata": {
        "id": "ZRL3s8vDfX9e"
      },
      "source": [
        "dados.shape"
      ],
      "execution_count": null,
      "outputs": []
    },
    {
      "cell_type": "code",
      "metadata": {
        "id": "ZjGGF3OZrooj"
      },
      "source": [
        "dados.isnull().sum()"
      ],
      "execution_count": null,
      "outputs": []
    },
    {
      "cell_type": "markdown",
      "source": [
        "Temos valores nulos que deverão ser tratados! Iremos substituir pela mediana de cada coluna."
      ],
      "metadata": {
        "id": "J73MExYroUep"
      }
    },
    {
      "cell_type": "code",
      "source": [
        "dados.loc[:,'sensor_1':'sensor_13'].describe()"
      ],
      "metadata": {
        "id": "En_Utk1On55R"
      },
      "execution_count": null,
      "outputs": []
    },
    {
      "cell_type": "code",
      "source": [
        "dados.loc[:,'sensor_13':].describe()"
      ],
      "metadata": {
        "id": "3DZ4PnLroNVM"
      },
      "execution_count": null,
      "outputs": []
    },
    {
      "cell_type": "markdown",
      "source": [
        "Todas as colunas com os sensores tem valores da mesma ordem de grandeza. Logo não há a necessidade de alterar a escala dos dados."
      ],
      "metadata": {
        "id": "ff3PHduroTvJ"
      }
    },
    {
      "cell_type": "markdown",
      "source": [
        "Vamos analisar as possibilidades de movimentos do robô:"
      ],
      "metadata": {
        "id": "v1CFC8_GqAZR"
      }
    },
    {
      "cell_type": "code",
      "source": [
        "sns.countplot(data=dados, x='funcao_robo')"
      ],
      "metadata": {
        "id": "jToK8IUooTAp"
      },
      "execution_count": null,
      "outputs": []
    },
    {
      "cell_type": "code",
      "source": [
        "dados['funcao_robo'].value_counts()"
      ],
      "metadata": {
        "id": "DD5GX-ZoqGk8"
      },
      "execution_count": null,
      "outputs": []
    },
    {
      "cell_type": "markdown",
      "metadata": {
        "id": "bxyeIJcTyW_Z"
      },
      "source": [
        "## Tarefa #3: Corrigindo o problema dos dados"
      ]
    },
    {
      "cell_type": "markdown",
      "source": [
        "### Substituindo os valores nulos pela mediana"
      ],
      "metadata": {
        "id": "1ql4F3czr3va"
      }
    },
    {
      "cell_type": "markdown",
      "source": [
        "Para as colunas dos valores dos sensores iremos substituir os mesmos pela mediana de cada coluna:"
      ],
      "metadata": {
        "id": "68oa4SUlr7Oa"
      }
    },
    {
      "cell_type": "code",
      "metadata": {
        "id": "54MFZl62dJg-"
      },
      "source": [
        "colunas = list(dados.columns)\n",
        "colunas"
      ],
      "execution_count": null,
      "outputs": []
    },
    {
      "cell_type": "code",
      "source": [
        "colunas.pop()\n",
        "colunas"
      ],
      "metadata": {
        "id": "pcgaL3v5rYhr"
      },
      "execution_count": null,
      "outputs": []
    },
    {
      "cell_type": "code",
      "metadata": {
        "id": "Go5OIlUQdxdN"
      },
      "source": [
        "for col in colunas:\n",
        "  mediana = dados[col].median()\n",
        "  dados[col].fillna(mediana, inplace = True)"
      ],
      "execution_count": null,
      "outputs": []
    },
    {
      "cell_type": "code",
      "source": [
        "dados.isnull().sum()"
      ],
      "metadata": {
        "id": "KUKV8-Lkrocd"
      },
      "execution_count": null,
      "outputs": []
    },
    {
      "cell_type": "markdown",
      "source": [
        "Na coluna função_robô temos apenas 14 valores nulos. Iremos remover esses valores pois temos mais de 5000 linhas nesse conjunto de dados."
      ],
      "metadata": {
        "id": "x_fldQrGsAii"
      }
    },
    {
      "cell_type": "code",
      "source": [
        "dados.dropna(inplace=True)"
      ],
      "metadata": {
        "id": "4nFbC9oSrxf0"
      },
      "execution_count": null,
      "outputs": []
    },
    {
      "cell_type": "code",
      "source": [
        "dados.isnull().sum()"
      ],
      "metadata": {
        "id": "TjgFvTX6r18F"
      },
      "execution_count": null,
      "outputs": []
    },
    {
      "cell_type": "markdown",
      "source": [
        "### Ajustando o desbalanceamento da coluna de saída dos dados (EXTRA - Datasets desbalanceados)"
      ],
      "metadata": {
        "id": "dUt7FkyJ5Dte"
      }
    },
    {
      "cell_type": "code",
      "source": [
        "# Dividindo os dados em entrada e saída:\n",
        "X = dados.drop(columns=[\"funcao_robo\"])\n",
        "# Criando uma variavel para os labels\n",
        "y = dados[\"funcao_robo\"]"
      ],
      "metadata": {
        "id": "A6cWlMM95S0_"
      },
      "execution_count": null,
      "outputs": []
    },
    {
      "cell_type": "code",
      "source": [
        "from imblearn.over_sampling import RandomOverSampler\n",
        "from imblearn.under_sampling import RandomUnderSampler\n",
        "rus = RandomOverSampler(random_state=42)\n",
        "X_resampled, y_resampled = rus.fit_resample(X,y)"
      ],
      "metadata": {
        "id": "vfTJp4bC5G1X"
      },
      "execution_count": null,
      "outputs": []
    },
    {
      "cell_type": "code",
      "source": [
        "dados = pd.concat([X_resampled, y_resampled], axis = 1)"
      ],
      "metadata": {
        "id": "HkJ-Pon85n5p"
      },
      "execution_count": null,
      "outputs": []
    },
    {
      "cell_type": "code",
      "source": [
        "sns.countplot(data=dados, x='funcao_robo')"
      ],
      "metadata": {
        "id": "7njJRgsi5cDy"
      },
      "execution_count": null,
      "outputs": []
    },
    {
      "cell_type": "markdown",
      "source": [
        "### Ajustando os dados para a Rede Neural"
      ],
      "metadata": {
        "id": "qB0TM5kG9_jN"
      }
    },
    {
      "cell_type": "markdown",
      "source": [
        "No nosso modelo iremos ter quatro saídas na nossa rede. Cada uma delas com a probabilidade de nossos dados pertencerem a classe 0, 1, 2 e 3 (4 possíveis movimentos do robô). Para isso, precisamos transformar nossos dados para que possamos ter as quatro saídas nos nossos dados. Como iremos usar o `Keras` e não o `Tensorflow` devemos adaptar nossos dados para esse novo cenário:"
      ],
      "metadata": {
        "id": "s69l4-qy8yjF"
      }
    },
    {
      "cell_type": "code",
      "source": [
        "X = dados.drop(columns='funcao_robo')\n",
        "y = dados['funcao_robo']\n",
        "y.unique()"
      ],
      "metadata": {
        "id": "UkwkYqoW9I_V"
      },
      "execution_count": null,
      "outputs": []
    },
    {
      "cell_type": "code",
      "source": [
        "dicionario_subs = {}\n",
        "\n",
        "for i, rotulo in enumerate(y.unique()):\n",
        "  dicionario_subs[rotulo] = i"
      ],
      "metadata": {
        "id": "cQw3TCiK9YNr"
      },
      "execution_count": null,
      "outputs": []
    },
    {
      "cell_type": "code",
      "source": [
        "dicionario_subs"
      ],
      "metadata": {
        "id": "APwnx5aS9nir"
      },
      "execution_count": null,
      "outputs": []
    },
    {
      "cell_type": "code",
      "source": [
        "y.replace(dicionario_subs, inplace = True)"
      ],
      "metadata": {
        "id": "6OLzJ2Kv9vrq"
      },
      "execution_count": null,
      "outputs": []
    },
    {
      "cell_type": "code",
      "source": [
        "y.unique()"
      ],
      "metadata": {
        "id": "RNcN-igV90f9"
      },
      "execution_count": null,
      "outputs": []
    },
    {
      "cell_type": "code",
      "source": [
        "y.shape"
      ],
      "metadata": {
        "id": "B1WsdlkJILPC"
      },
      "execution_count": null,
      "outputs": []
    },
    {
      "cell_type": "code",
      "source": [
        "y_keras = tf.keras.utils.to_categorical(y)\n",
        "y_keras.shape"
      ],
      "metadata": {
        "id": "UB4fCzew80Vr"
      },
      "execution_count": null,
      "outputs": []
    },
    {
      "cell_type": "code",
      "source": [
        "y_keras"
      ],
      "metadata": {
        "id": "XGqr983w-Pyd"
      },
      "execution_count": null,
      "outputs": []
    },
    {
      "cell_type": "code",
      "source": [
        "y"
      ],
      "metadata": {
        "id": "ejt2OVJ1-a3L"
      },
      "execution_count": null,
      "outputs": []
    },
    {
      "cell_type": "markdown",
      "source": [
        "##Tarefa #4: Redes Neurais Artificias para Classificação de Dados:"
      ],
      "metadata": {
        "id": "cp2ADo7__PB4"
      }
    },
    {
      "cell_type": "markdown",
      "source": [
        "### Tarefa #A: Dividindo o conjunto de dados (Entrada/Saída e Treinamento/Teste)"
      ],
      "metadata": {
        "id": "4r91qIhHbkqV"
      }
    },
    {
      "cell_type": "markdown",
      "metadata": {
        "id": "Rp8GcdnhIx9-"
      },
      "source": [
        "O procedimento com o conjunto de dados será o mesmo, primeiro iremos dividir os mesmos em conjunto de treinamento e de teste."
      ]
    },
    {
      "cell_type": "code",
      "metadata": {
        "id": "0dTtKxg3cisZ"
      },
      "source": [
        "X_train, X_test, y_train, y_test = train_test_split(X,\n",
        "                                                    y_keras,\n",
        "                                                    test_size=0.2,\n",
        "                                                    random_state=42)"
      ],
      "execution_count": null,
      "outputs": []
    },
    {
      "cell_type": "markdown",
      "metadata": {
        "id": "s77gqvfUd_M9"
      },
      "source": [
        "### Tarefa #B: Criando a Rede Neural com o Keras"
      ]
    },
    {
      "cell_type": "markdown",
      "metadata": {
        "id": "P6Ud6JPDJKrZ"
      },
      "source": [
        "Vamos definir um modelo com as seguintes camadas:\n",
        "\n",
        "*   Entrada com 24 valores (24 atributos dos nossos dados)\n",
        "*   Primeira camada com 8 neurônios e função de ativação por ReLU\n",
        "*   Camada Oculta com 8 neurônios e função de ativação por ReLU\n",
        "*   Saída da rede com 4 neurônios e função de ativação por softmax\n"
      ]
    },
    {
      "cell_type": "code",
      "source": [
        "# Criando o modelo para fazer a classificação dos dados:\n",
        "model = Sequential()\n",
        "\n",
        "# Camada de Entrada:\n",
        "model.add(Input(shape=24, # 24 sensores\n",
        "                name = \"Entrada\"))\n",
        "# Primeira Camada:\n",
        "model.add(Dense(8,\n",
        "                use_bias=True, # Use o bias\n",
        "                bias_initializer = 'zeros', # inicializando bias em zeros\n",
        "                activation='relu', # função de ativação ReLU\n",
        "                name = 'Primeira_Camada'))\n",
        "# Camada Oculta:\n",
        "model.add(Dense(8,\n",
        "                use_bias=True, # Use o bias\n",
        "                bias_initializer = 'zeros', # inicializando bias em zeros\n",
        "                activation='relu', # função de ativação ReLU\n",
        "                name = 'Camada_Oculta'))\n",
        "# Camada de Saída:\n",
        "model.add(Dense(4,\n",
        "                use_bias=True, # Use o bias\n",
        "                bias_initializer = 'zeros', # inicializando bias em zeros\n",
        "                activation='softmax', # função de ativação softmax\n",
        "                name = 'Camada_Saida'))"
      ],
      "metadata": {
        "id": "JSaeAwIVAeCl"
      },
      "execution_count": null,
      "outputs": []
    },
    {
      "cell_type": "code",
      "source": [
        "model.summary()"
      ],
      "metadata": {
        "id": "AEyPmIySAloc"
      },
      "execution_count": null,
      "outputs": []
    },
    {
      "cell_type": "code",
      "metadata": {
        "id": "R-Pu9WT0eB99"
      },
      "source": [
        "plot_model(model,\n",
        "           to_file = 'model_plot.png',\n",
        "           show_shapes = True,\n",
        "           show_layer_names=True,\n",
        "           show_layer_activations=True)"
      ],
      "execution_count": null,
      "outputs": []
    },
    {
      "cell_type": "markdown",
      "source": [
        "### Tarefa #C: Treinando a Rede Neural com o Keras"
      ],
      "metadata": {
        "id": "3Pyd8fmMAKNd"
      }
    },
    {
      "cell_type": "markdown",
      "metadata": {
        "id": "RWPYLRNDJ4N3"
      },
      "source": [
        "Vamos fazer o treinamento do nosso modelo usando o categorical crossentropy como função de custo, SGD como algoritmo de otimização dos parâmetros, taxa de aprendizado de 0,001 e métrica no treinamento com a acurácia."
      ]
    },
    {
      "cell_type": "code",
      "metadata": {
        "id": "2hrN98DeJ4ud"
      },
      "source": [],
      "execution_count": null,
      "outputs": []
    },
    {
      "cell_type": "markdown",
      "metadata": {
        "id": "G8y192MGKK5W"
      },
      "source": [
        "Realizando o treinamento com 1500 épocas, com batch_size de 10 e 20% dos dados utilizados para a validação do modelo:"
      ]
    },
    {
      "cell_type": "code",
      "metadata": {
        "id": "xj8PfxWfgm2g"
      },
      "source": [],
      "execution_count": null,
      "outputs": []
    },
    {
      "cell_type": "markdown",
      "metadata": {
        "id": "091tB5guLskm"
      },
      "source": [
        "Vamos plotar um gráfico para analisar o comportamento da função custo durante o treinamento:"
      ]
    },
    {
      "cell_type": "code",
      "metadata": {
        "id": "oxSUfSqWhAvh"
      },
      "source": [],
      "execution_count": null,
      "outputs": []
    },
    {
      "cell_type": "markdown",
      "metadata": {
        "id": "pHSKYMIDLz3U"
      },
      "source": [
        "Podemos ver que o valor da função custo manteve o mesmo padrão para o conjunto de treinamento e de validação, o que indica que não houver overfitting no nosso treinamento"
      ]
    },
    {
      "cell_type": "markdown",
      "metadata": {
        "id": "Si4cn29w0PIl"
      },
      "source": [
        "Salvando o modelo que foi criado:"
      ]
    },
    {
      "cell_type": "code",
      "metadata": {
        "id": "NnY12apIy0TA"
      },
      "source": [],
      "execution_count": null,
      "outputs": []
    },
    {
      "cell_type": "markdown",
      "metadata": {
        "id": "WUmBeTSoNznm"
      },
      "source": [
        "### Tarefa #D: Métricas de Desempenho"
      ]
    },
    {
      "cell_type": "markdown",
      "metadata": {
        "id": "3gHQlGOPNNPQ"
      },
      "source": [
        "Vamos checar o valor de saída da rede para o conjunto de teste:"
      ]
    },
    {
      "cell_type": "code",
      "source": [],
      "metadata": {
        "id": "KeVOEYdQigE5"
      },
      "execution_count": null,
      "outputs": []
    },
    {
      "cell_type": "code",
      "source": [],
      "metadata": {
        "id": "4Ylxc5iZioz4"
      },
      "execution_count": null,
      "outputs": []
    },
    {
      "cell_type": "code",
      "metadata": {
        "id": "Lh4CefWUirXD"
      },
      "source": [],
      "execution_count": null,
      "outputs": []
    },
    {
      "cell_type": "markdown",
      "metadata": {
        "id": "ndiEj2IJNRr-"
      },
      "source": [
        "O padrão obtido seria a porcentagem de cada um dos valores do conjunto de teste pertencerem a cada uma das classes (0, 1 e 2). Aquele com o maior valor, é a classe com a qual o nosso modelo fez a previsão. Vamos agora transforma isso em um array com os valores das classes e não a probabilidade de cada uma delas."
      ]
    },
    {
      "cell_type": "code",
      "metadata": {
        "id": "5cT8CrV_AY-K"
      },
      "source": [],
      "execution_count": null,
      "outputs": []
    },
    {
      "cell_type": "code",
      "metadata": {
        "id": "pKTw8lmnDaIs"
      },
      "source": [],
      "execution_count": null,
      "outputs": []
    },
    {
      "cell_type": "markdown",
      "metadata": {
        "id": "zrjJEX_9N4aG"
      },
      "source": [
        "Vamos agora checar a matriz de confusão dos nossos dados:"
      ]
    },
    {
      "cell_type": "code",
      "metadata": {
        "id": "dcss895aCz1Y"
      },
      "source": [],
      "execution_count": null,
      "outputs": []
    },
    {
      "cell_type": "code",
      "metadata": {
        "id": "C2I3f7CdENt8"
      },
      "source": [],
      "execution_count": null,
      "outputs": []
    },
    {
      "cell_type": "markdown",
      "metadata": {
        "id": "-bO9AdnIN7_2"
      },
      "source": [
        "Por fim, vamos obter as nossas métricas de precisão, revocação e acurácia:"
      ]
    },
    {
      "cell_type": "code",
      "metadata": {
        "id": "c0zCNtP2EbV0"
      },
      "source": [],
      "execution_count": null,
      "outputs": []
    }
  ]
}